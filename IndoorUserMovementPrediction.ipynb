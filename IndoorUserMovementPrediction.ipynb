{
  "nbformat": 4,
  "nbformat_minor": 0,
  "metadata": {
    "colab": {
      "name": "IndoorUserMovementPrediction.ipynb",
      "version": "0.3.2",
      "provenance": [],
      "collapsed_sections": [],
      "include_colab_link": true
    },
    "kernelspec": {
      "name": "python3",
      "display_name": "Python 3"
    },
    "accelerator": "GPU"
  },
  "cells": [
    {
      "cell_type": "markdown",
      "metadata": {
        "id": "view-in-github",
        "colab_type": "text"
      },
      "source": [
        "<a href=\"https://colab.research.google.com/github/syedwaleedhyder/IndoorUserMovementPrediction/blob/master/IndoorUserMovementPrediction.ipynb\" target=\"_parent\"><img src=\"https://colab.research.google.com/assets/colab-badge.svg\" alt=\"Open In Colab\"/></a>"
      ]
    },
    {
      "cell_type": "code",
      "metadata": {
        "id": "CSBxX3LRjgPP",
        "colab_type": "code",
        "colab": {
          "base_uri": "https://localhost:8080/",
          "height": 1000
        },
        "outputId": "4e5076b3-dfb1-4615-e1a0-402296b0ac28"
      },
      "source": [
        "!rm -rf MovementAAL.zip\n",
        "!rm -rf MovementAAL/\n",
        "!wget https://archive.ics.uci.edu/ml/machine-learning-databases/00348/MovementAAL.zip\n",
        "!unzip -o MovementAAL.zip -d MovementAAL"
      ],
      "execution_count": 1,
      "outputs": [
        {
          "output_type": "stream",
          "text": [
            "--2019-08-03 14:28:42--  https://archive.ics.uci.edu/ml/machine-learning-databases/00348/MovementAAL.zip\n",
            "Resolving archive.ics.uci.edu (archive.ics.uci.edu)... 128.195.10.252\n",
            "Connecting to archive.ics.uci.edu (archive.ics.uci.edu)|128.195.10.252|:443... connected.\n",
            "HTTP request sent, awaiting response... 200 OK\n",
            "Length: 215028 (210K) [application/x-httpd-php]\n",
            "Saving to: ‘MovementAAL.zip’\n",
            "\n",
            "\rMovementAAL.zip       0%[                    ]       0  --.-KB/s               \rMovementAAL.zip     100%[===================>] 209.99K  --.-KB/s    in 0.1s    \n",
            "\n",
            "2019-08-03 14:28:42 (1.71 MB/s) - ‘MovementAAL.zip’ saved [215028/215028]\n",
            "\n",
            "Archive:  MovementAAL.zip\n",
            "   creating: MovementAAL/dataset/\n",
            "  inflating: MovementAAL/dataset/MovementAAL_RSS_1.csv  \n",
            "  inflating: MovementAAL/dataset/MovementAAL_RSS_10.csv  \n",
            "  inflating: MovementAAL/dataset/MovementAAL_RSS_100.csv  \n",
            "  inflating: MovementAAL/dataset/MovementAAL_RSS_101.csv  \n",
            "  inflating: MovementAAL/dataset/MovementAAL_RSS_102.csv  \n",
            "  inflating: MovementAAL/dataset/MovementAAL_RSS_103.csv  \n",
            "  inflating: MovementAAL/dataset/MovementAAL_RSS_104.csv  \n",
            "  inflating: MovementAAL/dataset/MovementAAL_RSS_105.csv  \n",
            "  inflating: MovementAAL/dataset/MovementAAL_RSS_106.csv  \n",
            "  inflating: MovementAAL/dataset/MovementAAL_RSS_107.csv  \n",
            "  inflating: MovementAAL/dataset/MovementAAL_RSS_108.csv  \n",
            "  inflating: MovementAAL/dataset/MovementAAL_RSS_109.csv  \n",
            "  inflating: MovementAAL/dataset/MovementAAL_RSS_11.csv  \n",
            "  inflating: MovementAAL/dataset/MovementAAL_RSS_110.csv  \n",
            "  inflating: MovementAAL/dataset/MovementAAL_RSS_111.csv  \n",
            "  inflating: MovementAAL/dataset/MovementAAL_RSS_112.csv  \n",
            "  inflating: MovementAAL/dataset/MovementAAL_RSS_113.csv  \n",
            "  inflating: MovementAAL/dataset/MovementAAL_RSS_114.csv  \n",
            "  inflating: MovementAAL/dataset/MovementAAL_RSS_115.csv  \n",
            "  inflating: MovementAAL/dataset/MovementAAL_RSS_116.csv  \n",
            "  inflating: MovementAAL/dataset/MovementAAL_RSS_117.csv  \n",
            "  inflating: MovementAAL/dataset/MovementAAL_RSS_118.csv  \n",
            "  inflating: MovementAAL/dataset/MovementAAL_RSS_119.csv  \n",
            "  inflating: MovementAAL/dataset/MovementAAL_RSS_12.csv  \n",
            "  inflating: MovementAAL/dataset/MovementAAL_RSS_120.csv  \n",
            "  inflating: MovementAAL/dataset/MovementAAL_RSS_121.csv  \n",
            "  inflating: MovementAAL/dataset/MovementAAL_RSS_122.csv  \n",
            "  inflating: MovementAAL/dataset/MovementAAL_RSS_123.csv  \n",
            "  inflating: MovementAAL/dataset/MovementAAL_RSS_124.csv  \n",
            "  inflating: MovementAAL/dataset/MovementAAL_RSS_125.csv  \n",
            "  inflating: MovementAAL/dataset/MovementAAL_RSS_126.csv  \n",
            "  inflating: MovementAAL/dataset/MovementAAL_RSS_127.csv  \n",
            "  inflating: MovementAAL/dataset/MovementAAL_RSS_128.csv  \n",
            "  inflating: MovementAAL/dataset/MovementAAL_RSS_129.csv  \n",
            "  inflating: MovementAAL/dataset/MovementAAL_RSS_13.csv  \n",
            "  inflating: MovementAAL/dataset/MovementAAL_RSS_130.csv  \n",
            "  inflating: MovementAAL/dataset/MovementAAL_RSS_131.csv  \n",
            "  inflating: MovementAAL/dataset/MovementAAL_RSS_132.csv  \n",
            "  inflating: MovementAAL/dataset/MovementAAL_RSS_133.csv  \n",
            "  inflating: MovementAAL/dataset/MovementAAL_RSS_134.csv  \n",
            "  inflating: MovementAAL/dataset/MovementAAL_RSS_135.csv  \n",
            "  inflating: MovementAAL/dataset/MovementAAL_RSS_136.csv  \n",
            "  inflating: MovementAAL/dataset/MovementAAL_RSS_137.csv  \n",
            "  inflating: MovementAAL/dataset/MovementAAL_RSS_138.csv  \n",
            "  inflating: MovementAAL/dataset/MovementAAL_RSS_139.csv  \n",
            "  inflating: MovementAAL/dataset/MovementAAL_RSS_14.csv  \n",
            "  inflating: MovementAAL/dataset/MovementAAL_RSS_140.csv  \n",
            "  inflating: MovementAAL/dataset/MovementAAL_RSS_141.csv  \n",
            "  inflating: MovementAAL/dataset/MovementAAL_RSS_142.csv  \n",
            "  inflating: MovementAAL/dataset/MovementAAL_RSS_143.csv  \n",
            "  inflating: MovementAAL/dataset/MovementAAL_RSS_144.csv  \n",
            "  inflating: MovementAAL/dataset/MovementAAL_RSS_145.csv  \n",
            "  inflating: MovementAAL/dataset/MovementAAL_RSS_146.csv  \n",
            "  inflating: MovementAAL/dataset/MovementAAL_RSS_147.csv  \n",
            "  inflating: MovementAAL/dataset/MovementAAL_RSS_148.csv  \n",
            "  inflating: MovementAAL/dataset/MovementAAL_RSS_149.csv  \n",
            "  inflating: MovementAAL/dataset/MovementAAL_RSS_15.csv  \n",
            "  inflating: MovementAAL/dataset/MovementAAL_RSS_150.csv  \n",
            "  inflating: MovementAAL/dataset/MovementAAL_RSS_151.csv  \n",
            "  inflating: MovementAAL/dataset/MovementAAL_RSS_152.csv  \n",
            "  inflating: MovementAAL/dataset/MovementAAL_RSS_153.csv  \n",
            "  inflating: MovementAAL/dataset/MovementAAL_RSS_154.csv  \n",
            "  inflating: MovementAAL/dataset/MovementAAL_RSS_155.csv  \n",
            "  inflating: MovementAAL/dataset/MovementAAL_RSS_156.csv  \n",
            "  inflating: MovementAAL/dataset/MovementAAL_RSS_157.csv  \n",
            "  inflating: MovementAAL/dataset/MovementAAL_RSS_158.csv  \n",
            "  inflating: MovementAAL/dataset/MovementAAL_RSS_159.csv  \n",
            "  inflating: MovementAAL/dataset/MovementAAL_RSS_16.csv  \n",
            "  inflating: MovementAAL/dataset/MovementAAL_RSS_160.csv  \n",
            "  inflating: MovementAAL/dataset/MovementAAL_RSS_161.csv  \n",
            "  inflating: MovementAAL/dataset/MovementAAL_RSS_162.csv  \n",
            "  inflating: MovementAAL/dataset/MovementAAL_RSS_163.csv  \n",
            "  inflating: MovementAAL/dataset/MovementAAL_RSS_164.csv  \n",
            "  inflating: MovementAAL/dataset/MovementAAL_RSS_165.csv  \n",
            "  inflating: MovementAAL/dataset/MovementAAL_RSS_166.csv  \n",
            "  inflating: MovementAAL/dataset/MovementAAL_RSS_167.csv  \n",
            "  inflating: MovementAAL/dataset/MovementAAL_RSS_168.csv  \n",
            "  inflating: MovementAAL/dataset/MovementAAL_RSS_169.csv  \n",
            "  inflating: MovementAAL/dataset/MovementAAL_RSS_17.csv  \n",
            "  inflating: MovementAAL/dataset/MovementAAL_RSS_170.csv  \n",
            "  inflating: MovementAAL/dataset/MovementAAL_RSS_171.csv  \n",
            "  inflating: MovementAAL/dataset/MovementAAL_RSS_172.csv  \n",
            "  inflating: MovementAAL/dataset/MovementAAL_RSS_173.csv  \n",
            "  inflating: MovementAAL/dataset/MovementAAL_RSS_174.csv  \n",
            "  inflating: MovementAAL/dataset/MovementAAL_RSS_175.csv  \n",
            "  inflating: MovementAAL/dataset/MovementAAL_RSS_176.csv  \n",
            "  inflating: MovementAAL/dataset/MovementAAL_RSS_177.csv  \n",
            "  inflating: MovementAAL/dataset/MovementAAL_RSS_178.csv  \n",
            "  inflating: MovementAAL/dataset/MovementAAL_RSS_179.csv  \n",
            "  inflating: MovementAAL/dataset/MovementAAL_RSS_18.csv  \n",
            "  inflating: MovementAAL/dataset/MovementAAL_RSS_180.csv  \n",
            "  inflating: MovementAAL/dataset/MovementAAL_RSS_181.csv  \n",
            "  inflating: MovementAAL/dataset/MovementAAL_RSS_182.csv  \n",
            "  inflating: MovementAAL/dataset/MovementAAL_RSS_183.csv  \n",
            "  inflating: MovementAAL/dataset/MovementAAL_RSS_184.csv  \n",
            "  inflating: MovementAAL/dataset/MovementAAL_RSS_185.csv  \n",
            "  inflating: MovementAAL/dataset/MovementAAL_RSS_186.csv  \n",
            "  inflating: MovementAAL/dataset/MovementAAL_RSS_187.csv  \n",
            "  inflating: MovementAAL/dataset/MovementAAL_RSS_188.csv  \n",
            "  inflating: MovementAAL/dataset/MovementAAL_RSS_189.csv  \n",
            "  inflating: MovementAAL/dataset/MovementAAL_RSS_19.csv  \n",
            "  inflating: MovementAAL/dataset/MovementAAL_RSS_190.csv  \n",
            "  inflating: MovementAAL/dataset/MovementAAL_RSS_191.csv  \n",
            "  inflating: MovementAAL/dataset/MovementAAL_RSS_192.csv  \n",
            "  inflating: MovementAAL/dataset/MovementAAL_RSS_193.csv  \n",
            "  inflating: MovementAAL/dataset/MovementAAL_RSS_194.csv  \n",
            "  inflating: MovementAAL/dataset/MovementAAL_RSS_195.csv  \n",
            "  inflating: MovementAAL/dataset/MovementAAL_RSS_196.csv  \n",
            "  inflating: MovementAAL/dataset/MovementAAL_RSS_197.csv  \n",
            "  inflating: MovementAAL/dataset/MovementAAL_RSS_198.csv  \n",
            "  inflating: MovementAAL/dataset/MovementAAL_RSS_199.csv  \n",
            "  inflating: MovementAAL/dataset/MovementAAL_RSS_2.csv  \n",
            "  inflating: MovementAAL/dataset/MovementAAL_RSS_20.csv  \n",
            "  inflating: MovementAAL/dataset/MovementAAL_RSS_200.csv  \n",
            "  inflating: MovementAAL/dataset/MovementAAL_RSS_201.csv  \n",
            "  inflating: MovementAAL/dataset/MovementAAL_RSS_202.csv  \n",
            "  inflating: MovementAAL/dataset/MovementAAL_RSS_203.csv  \n",
            "  inflating: MovementAAL/dataset/MovementAAL_RSS_204.csv  \n",
            "  inflating: MovementAAL/dataset/MovementAAL_RSS_205.csv  \n",
            "  inflating: MovementAAL/dataset/MovementAAL_RSS_206.csv  \n",
            "  inflating: MovementAAL/dataset/MovementAAL_RSS_207.csv  \n",
            "  inflating: MovementAAL/dataset/MovementAAL_RSS_208.csv  \n",
            "  inflating: MovementAAL/dataset/MovementAAL_RSS_209.csv  \n",
            "  inflating: MovementAAL/dataset/MovementAAL_RSS_21.csv  \n",
            "  inflating: MovementAAL/dataset/MovementAAL_RSS_210.csv  \n",
            "  inflating: MovementAAL/dataset/MovementAAL_RSS_211.csv  \n",
            "  inflating: MovementAAL/dataset/MovementAAL_RSS_212.csv  \n",
            "  inflating: MovementAAL/dataset/MovementAAL_RSS_213.csv  \n",
            "  inflating: MovementAAL/dataset/MovementAAL_RSS_214.csv  \n",
            "  inflating: MovementAAL/dataset/MovementAAL_RSS_215.csv  \n",
            "  inflating: MovementAAL/dataset/MovementAAL_RSS_216.csv  \n",
            "  inflating: MovementAAL/dataset/MovementAAL_RSS_217.csv  \n",
            "  inflating: MovementAAL/dataset/MovementAAL_RSS_218.csv  \n",
            "  inflating: MovementAAL/dataset/MovementAAL_RSS_219.csv  \n",
            "  inflating: MovementAAL/dataset/MovementAAL_RSS_22.csv  \n",
            "  inflating: MovementAAL/dataset/MovementAAL_RSS_220.csv  \n",
            "  inflating: MovementAAL/dataset/MovementAAL_RSS_221.csv  \n",
            "  inflating: MovementAAL/dataset/MovementAAL_RSS_222.csv  \n",
            "  inflating: MovementAAL/dataset/MovementAAL_RSS_223.csv  \n",
            "  inflating: MovementAAL/dataset/MovementAAL_RSS_224.csv  \n",
            "  inflating: MovementAAL/dataset/MovementAAL_RSS_225.csv  \n",
            "  inflating: MovementAAL/dataset/MovementAAL_RSS_226.csv  \n",
            "  inflating: MovementAAL/dataset/MovementAAL_RSS_227.csv  \n",
            "  inflating: MovementAAL/dataset/MovementAAL_RSS_228.csv  \n",
            "  inflating: MovementAAL/dataset/MovementAAL_RSS_229.csv  \n",
            "  inflating: MovementAAL/dataset/MovementAAL_RSS_23.csv  \n",
            "  inflating: MovementAAL/dataset/MovementAAL_RSS_230.csv  \n",
            "  inflating: MovementAAL/dataset/MovementAAL_RSS_231.csv  \n",
            "  inflating: MovementAAL/dataset/MovementAAL_RSS_232.csv  \n",
            "  inflating: MovementAAL/dataset/MovementAAL_RSS_233.csv  \n",
            "  inflating: MovementAAL/dataset/MovementAAL_RSS_234.csv  \n",
            "  inflating: MovementAAL/dataset/MovementAAL_RSS_235.csv  \n",
            "  inflating: MovementAAL/dataset/MovementAAL_RSS_236.csv  \n",
            "  inflating: MovementAAL/dataset/MovementAAL_RSS_237.csv  \n",
            "  inflating: MovementAAL/dataset/MovementAAL_RSS_238.csv  \n",
            "  inflating: MovementAAL/dataset/MovementAAL_RSS_239.csv  \n",
            "  inflating: MovementAAL/dataset/MovementAAL_RSS_24.csv  \n",
            "  inflating: MovementAAL/dataset/MovementAAL_RSS_240.csv  \n",
            "  inflating: MovementAAL/dataset/MovementAAL_RSS_241.csv  \n",
            "  inflating: MovementAAL/dataset/MovementAAL_RSS_242.csv  \n",
            "  inflating: MovementAAL/dataset/MovementAAL_RSS_243.csv  \n",
            "  inflating: MovementAAL/dataset/MovementAAL_RSS_244.csv  \n",
            "  inflating: MovementAAL/dataset/MovementAAL_RSS_245.csv  \n",
            "  inflating: MovementAAL/dataset/MovementAAL_RSS_246.csv  \n",
            "  inflating: MovementAAL/dataset/MovementAAL_RSS_247.csv  \n",
            "  inflating: MovementAAL/dataset/MovementAAL_RSS_248.csv  \n",
            "  inflating: MovementAAL/dataset/MovementAAL_RSS_249.csv  \n",
            "  inflating: MovementAAL/dataset/MovementAAL_RSS_25.csv  \n",
            "  inflating: MovementAAL/dataset/MovementAAL_RSS_250.csv  \n",
            "  inflating: MovementAAL/dataset/MovementAAL_RSS_251.csv  \n",
            "  inflating: MovementAAL/dataset/MovementAAL_RSS_252.csv  \n",
            "  inflating: MovementAAL/dataset/MovementAAL_RSS_253.csv  \n",
            "  inflating: MovementAAL/dataset/MovementAAL_RSS_254.csv  \n",
            "  inflating: MovementAAL/dataset/MovementAAL_RSS_255.csv  \n",
            "  inflating: MovementAAL/dataset/MovementAAL_RSS_256.csv  \n",
            "  inflating: MovementAAL/dataset/MovementAAL_RSS_257.csv  \n",
            "  inflating: MovementAAL/dataset/MovementAAL_RSS_258.csv  \n",
            "  inflating: MovementAAL/dataset/MovementAAL_RSS_259.csv  \n",
            "  inflating: MovementAAL/dataset/MovementAAL_RSS_26.csv  \n",
            "  inflating: MovementAAL/dataset/MovementAAL_RSS_260.csv  \n",
            "  inflating: MovementAAL/dataset/MovementAAL_RSS_261.csv  \n",
            "  inflating: MovementAAL/dataset/MovementAAL_RSS_262.csv  \n",
            "  inflating: MovementAAL/dataset/MovementAAL_RSS_263.csv  \n",
            "  inflating: MovementAAL/dataset/MovementAAL_RSS_264.csv  \n",
            "  inflating: MovementAAL/dataset/MovementAAL_RSS_265.csv  \n",
            "  inflating: MovementAAL/dataset/MovementAAL_RSS_266.csv  \n",
            "  inflating: MovementAAL/dataset/MovementAAL_RSS_267.csv  \n",
            "  inflating: MovementAAL/dataset/MovementAAL_RSS_268.csv  \n",
            "  inflating: MovementAAL/dataset/MovementAAL_RSS_269.csv  \n",
            "  inflating: MovementAAL/dataset/MovementAAL_RSS_27.csv  \n",
            "  inflating: MovementAAL/dataset/MovementAAL_RSS_270.csv  \n",
            "  inflating: MovementAAL/dataset/MovementAAL_RSS_271.csv  \n",
            "  inflating: MovementAAL/dataset/MovementAAL_RSS_272.csv  \n",
            "  inflating: MovementAAL/dataset/MovementAAL_RSS_273.csv  \n",
            "  inflating: MovementAAL/dataset/MovementAAL_RSS_274.csv  \n",
            "  inflating: MovementAAL/dataset/MovementAAL_RSS_275.csv  \n",
            "  inflating: MovementAAL/dataset/MovementAAL_RSS_276.csv  \n",
            "  inflating: MovementAAL/dataset/MovementAAL_RSS_277.csv  \n",
            "  inflating: MovementAAL/dataset/MovementAAL_RSS_278.csv  \n",
            "  inflating: MovementAAL/dataset/MovementAAL_RSS_279.csv  \n",
            "  inflating: MovementAAL/dataset/MovementAAL_RSS_28.csv  \n",
            "  inflating: MovementAAL/dataset/MovementAAL_RSS_280.csv  \n",
            "  inflating: MovementAAL/dataset/MovementAAL_RSS_281.csv  \n",
            "  inflating: MovementAAL/dataset/MovementAAL_RSS_282.csv  \n",
            "  inflating: MovementAAL/dataset/MovementAAL_RSS_283.csv  \n",
            "  inflating: MovementAAL/dataset/MovementAAL_RSS_284.csv  \n",
            "  inflating: MovementAAL/dataset/MovementAAL_RSS_285.csv  \n",
            "  inflating: MovementAAL/dataset/MovementAAL_RSS_286.csv  \n",
            "  inflating: MovementAAL/dataset/MovementAAL_RSS_287.csv  \n",
            "  inflating: MovementAAL/dataset/MovementAAL_RSS_288.csv  \n",
            "  inflating: MovementAAL/dataset/MovementAAL_RSS_289.csv  \n",
            "  inflating: MovementAAL/dataset/MovementAAL_RSS_29.csv  \n",
            "  inflating: MovementAAL/dataset/MovementAAL_RSS_290.csv  \n",
            "  inflating: MovementAAL/dataset/MovementAAL_RSS_291.csv  \n",
            "  inflating: MovementAAL/dataset/MovementAAL_RSS_292.csv  \n",
            "  inflating: MovementAAL/dataset/MovementAAL_RSS_293.csv  \n",
            "  inflating: MovementAAL/dataset/MovementAAL_RSS_294.csv  \n",
            "  inflating: MovementAAL/dataset/MovementAAL_RSS_295.csv  \n",
            "  inflating: MovementAAL/dataset/MovementAAL_RSS_296.csv  \n",
            "  inflating: MovementAAL/dataset/MovementAAL_RSS_297.csv  \n",
            "  inflating: MovementAAL/dataset/MovementAAL_RSS_298.csv  \n",
            "  inflating: MovementAAL/dataset/MovementAAL_RSS_299.csv  \n",
            "  inflating: MovementAAL/dataset/MovementAAL_RSS_3.csv  \n",
            "  inflating: MovementAAL/dataset/MovementAAL_RSS_30.csv  \n",
            "  inflating: MovementAAL/dataset/MovementAAL_RSS_300.csv  \n",
            "  inflating: MovementAAL/dataset/MovementAAL_RSS_301.csv  \n",
            "  inflating: MovementAAL/dataset/MovementAAL_RSS_302.csv  \n",
            "  inflating: MovementAAL/dataset/MovementAAL_RSS_303.csv  \n",
            "  inflating: MovementAAL/dataset/MovementAAL_RSS_304.csv  \n",
            "  inflating: MovementAAL/dataset/MovementAAL_RSS_305.csv  \n",
            "  inflating: MovementAAL/dataset/MovementAAL_RSS_306.csv  \n",
            "  inflating: MovementAAL/dataset/MovementAAL_RSS_307.csv  \n",
            "  inflating: MovementAAL/dataset/MovementAAL_RSS_308.csv  \n",
            "  inflating: MovementAAL/dataset/MovementAAL_RSS_309.csv  \n",
            "  inflating: MovementAAL/dataset/MovementAAL_RSS_31.csv  \n",
            "  inflating: MovementAAL/dataset/MovementAAL_RSS_310.csv  \n",
            "  inflating: MovementAAL/dataset/MovementAAL_RSS_311.csv  \n",
            "  inflating: MovementAAL/dataset/MovementAAL_RSS_312.csv  \n",
            "  inflating: MovementAAL/dataset/MovementAAL_RSS_313.csv  \n",
            "  inflating: MovementAAL/dataset/MovementAAL_RSS_314.csv  \n",
            "  inflating: MovementAAL/dataset/MovementAAL_RSS_32.csv  \n",
            "  inflating: MovementAAL/dataset/MovementAAL_RSS_33.csv  \n",
            "  inflating: MovementAAL/dataset/MovementAAL_RSS_34.csv  \n",
            "  inflating: MovementAAL/dataset/MovementAAL_RSS_35.csv  \n",
            "  inflating: MovementAAL/dataset/MovementAAL_RSS_36.csv  \n",
            "  inflating: MovementAAL/dataset/MovementAAL_RSS_37.csv  \n",
            "  inflating: MovementAAL/dataset/MovementAAL_RSS_38.csv  \n",
            "  inflating: MovementAAL/dataset/MovementAAL_RSS_39.csv  \n",
            "  inflating: MovementAAL/dataset/MovementAAL_RSS_4.csv  \n",
            "  inflating: MovementAAL/dataset/MovementAAL_RSS_40.csv  \n",
            "  inflating: MovementAAL/dataset/MovementAAL_RSS_41.csv  \n",
            "  inflating: MovementAAL/dataset/MovementAAL_RSS_42.csv  \n",
            "  inflating: MovementAAL/dataset/MovementAAL_RSS_43.csv  \n",
            "  inflating: MovementAAL/dataset/MovementAAL_RSS_44.csv  \n",
            "  inflating: MovementAAL/dataset/MovementAAL_RSS_45.csv  \n",
            "  inflating: MovementAAL/dataset/MovementAAL_RSS_46.csv  \n",
            "  inflating: MovementAAL/dataset/MovementAAL_RSS_47.csv  \n",
            "  inflating: MovementAAL/dataset/MovementAAL_RSS_48.csv  \n",
            "  inflating: MovementAAL/dataset/MovementAAL_RSS_49.csv  \n",
            "  inflating: MovementAAL/dataset/MovementAAL_RSS_5.csv  \n",
            "  inflating: MovementAAL/dataset/MovementAAL_RSS_50.csv  \n",
            "  inflating: MovementAAL/dataset/MovementAAL_RSS_51.csv  \n",
            "  inflating: MovementAAL/dataset/MovementAAL_RSS_52.csv  \n",
            "  inflating: MovementAAL/dataset/MovementAAL_RSS_53.csv  \n",
            "  inflating: MovementAAL/dataset/MovementAAL_RSS_54.csv  \n",
            "  inflating: MovementAAL/dataset/MovementAAL_RSS_55.csv  \n",
            "  inflating: MovementAAL/dataset/MovementAAL_RSS_56.csv  \n",
            "  inflating: MovementAAL/dataset/MovementAAL_RSS_57.csv  \n",
            "  inflating: MovementAAL/dataset/MovementAAL_RSS_58.csv  \n",
            "  inflating: MovementAAL/dataset/MovementAAL_RSS_59.csv  \n",
            "  inflating: MovementAAL/dataset/MovementAAL_RSS_6.csv  \n",
            "  inflating: MovementAAL/dataset/MovementAAL_RSS_60.csv  \n",
            "  inflating: MovementAAL/dataset/MovementAAL_RSS_61.csv  \n",
            "  inflating: MovementAAL/dataset/MovementAAL_RSS_62.csv  \n",
            "  inflating: MovementAAL/dataset/MovementAAL_RSS_63.csv  \n",
            "  inflating: MovementAAL/dataset/MovementAAL_RSS_64.csv  \n",
            "  inflating: MovementAAL/dataset/MovementAAL_RSS_65.csv  \n",
            "  inflating: MovementAAL/dataset/MovementAAL_RSS_66.csv  \n",
            "  inflating: MovementAAL/dataset/MovementAAL_RSS_67.csv  \n",
            "  inflating: MovementAAL/dataset/MovementAAL_RSS_68.csv  \n",
            "  inflating: MovementAAL/dataset/MovementAAL_RSS_69.csv  \n",
            "  inflating: MovementAAL/dataset/MovementAAL_RSS_7.csv  \n",
            "  inflating: MovementAAL/dataset/MovementAAL_RSS_70.csv  \n",
            "  inflating: MovementAAL/dataset/MovementAAL_RSS_71.csv  \n",
            "  inflating: MovementAAL/dataset/MovementAAL_RSS_72.csv  \n",
            "  inflating: MovementAAL/dataset/MovementAAL_RSS_73.csv  \n",
            "  inflating: MovementAAL/dataset/MovementAAL_RSS_74.csv  \n",
            "  inflating: MovementAAL/dataset/MovementAAL_RSS_75.csv  \n",
            "  inflating: MovementAAL/dataset/MovementAAL_RSS_76.csv  \n",
            "  inflating: MovementAAL/dataset/MovementAAL_RSS_77.csv  \n",
            "  inflating: MovementAAL/dataset/MovementAAL_RSS_78.csv  \n",
            "  inflating: MovementAAL/dataset/MovementAAL_RSS_79.csv  \n",
            "  inflating: MovementAAL/dataset/MovementAAL_RSS_8.csv  \n",
            "  inflating: MovementAAL/dataset/MovementAAL_RSS_80.csv  \n",
            "  inflating: MovementAAL/dataset/MovementAAL_RSS_81.csv  \n",
            "  inflating: MovementAAL/dataset/MovementAAL_RSS_82.csv  \n",
            "  inflating: MovementAAL/dataset/MovementAAL_RSS_83.csv  \n",
            "  inflating: MovementAAL/dataset/MovementAAL_RSS_84.csv  \n",
            "  inflating: MovementAAL/dataset/MovementAAL_RSS_85.csv  \n",
            "  inflating: MovementAAL/dataset/MovementAAL_RSS_86.csv  \n",
            "  inflating: MovementAAL/dataset/MovementAAL_RSS_87.csv  \n",
            "  inflating: MovementAAL/dataset/MovementAAL_RSS_88.csv  \n",
            "  inflating: MovementAAL/dataset/MovementAAL_RSS_89.csv  \n",
            "  inflating: MovementAAL/dataset/MovementAAL_RSS_9.csv  \n",
            "  inflating: MovementAAL/dataset/MovementAAL_RSS_90.csv  \n",
            "  inflating: MovementAAL/dataset/MovementAAL_RSS_91.csv  \n",
            "  inflating: MovementAAL/dataset/MovementAAL_RSS_92.csv  \n",
            "  inflating: MovementAAL/dataset/MovementAAL_RSS_93.csv  \n",
            "  inflating: MovementAAL/dataset/MovementAAL_RSS_94.csv  \n",
            "  inflating: MovementAAL/dataset/MovementAAL_RSS_95.csv  \n",
            "  inflating: MovementAAL/dataset/MovementAAL_RSS_96.csv  \n",
            "  inflating: MovementAAL/dataset/MovementAAL_RSS_97.csv  \n",
            "  inflating: MovementAAL/dataset/MovementAAL_RSS_98.csv  \n",
            "  inflating: MovementAAL/dataset/MovementAAL_RSS_99.csv  \n",
            "  inflating: MovementAAL/dataset/MovementAAL_target.csv  \n",
            "   creating: MovementAAL/groups/\n",
            "  inflating: MovementAAL/groups/MovementAAL_DatasetGroup.csv  \n",
            "  inflating: MovementAAL/groups/MovementAAL_Paths.csv  \n",
            "  inflating: MovementAAL/dataset_description.txt  \n",
            "  inflating: MovementAAL/MovementAAL.jpg  \n",
            "  inflating: MovementAAL/README.txt  \n"
          ],
          "name": "stdout"
        }
      ]
    },
    {
      "cell_type": "code",
      "metadata": {
        "id": "GwMdSfGTklPe",
        "colab_type": "code",
        "outputId": "1dbecf23-83ac-4b29-ad3c-df108d1c6b89",
        "colab": {
          "base_uri": "https://localhost:8080/",
          "height": 34
        }
      },
      "source": [
        "import pandas as pd\n",
        "import numpy as np\n",
        "%matplotlib inline\n",
        "import matplotlib.pyplot as plt\n",
        "from os import listdir\n",
        "\n",
        "from keras.preprocessing import sequence\n",
        "import tensorflow as tf\n",
        "from keras.models import Sequential\n",
        "from keras.layers import Dense\n",
        "from keras.layers import LSTM\n",
        "\n",
        "from keras.optimizers import Adam\n",
        "from keras.models import load_model\n",
        "from keras.callbacks import ModelCheckpoint"
      ],
      "execution_count": 2,
      "outputs": [
        {
          "output_type": "stream",
          "text": [
            "Using TensorFlow backend.\n"
          ],
          "name": "stderr"
        }
      ]
    },
    {
      "cell_type": "code",
      "metadata": {
        "id": "JdWPg9RFkx8B",
        "colab_type": "code",
        "colab": {}
      },
      "source": [
        "df1 = pd.read_csv('/content/MovementAAL/dataset/MovementAAL_RSS_1.csv')\n",
        "df2 = pd.read_csv('/content/MovementAAL/dataset/MovementAAL_RSS_2.csv')"
      ],
      "execution_count": 0,
      "outputs": []
    },
    {
      "cell_type": "code",
      "metadata": {
        "id": "VfOMQVNTlR_o",
        "colab_type": "code",
        "outputId": "bedee8db-0c40-4433-fc29-7c8be547ad2b",
        "colab": {
          "base_uri": "https://localhost:8080/",
          "height": 204
        }
      },
      "source": [
        "df1.head()"
      ],
      "execution_count": 4,
      "outputs": [
        {
          "output_type": "execute_result",
          "data": {
            "text/html": [
              "<div>\n",
              "<style scoped>\n",
              "    .dataframe tbody tr th:only-of-type {\n",
              "        vertical-align: middle;\n",
              "    }\n",
              "\n",
              "    .dataframe tbody tr th {\n",
              "        vertical-align: top;\n",
              "    }\n",
              "\n",
              "    .dataframe thead th {\n",
              "        text-align: right;\n",
              "    }\n",
              "</style>\n",
              "<table border=\"1\" class=\"dataframe\">\n",
              "  <thead>\n",
              "    <tr style=\"text-align: right;\">\n",
              "      <th></th>\n",
              "      <th>#RSS_anchor1</th>\n",
              "      <th>RSS_anchor2</th>\n",
              "      <th>RSS_anchor3</th>\n",
              "      <th>RSS_anchor4</th>\n",
              "    </tr>\n",
              "  </thead>\n",
              "  <tbody>\n",
              "    <tr>\n",
              "      <th>0</th>\n",
              "      <td>-0.90476</td>\n",
              "      <td>-0.48</td>\n",
              "      <td>0.28571</td>\n",
              "      <td>0.30</td>\n",
              "    </tr>\n",
              "    <tr>\n",
              "      <th>1</th>\n",
              "      <td>-0.57143</td>\n",
              "      <td>-0.32</td>\n",
              "      <td>0.14286</td>\n",
              "      <td>0.30</td>\n",
              "    </tr>\n",
              "    <tr>\n",
              "      <th>2</th>\n",
              "      <td>-0.38095</td>\n",
              "      <td>-0.28</td>\n",
              "      <td>-0.14286</td>\n",
              "      <td>0.35</td>\n",
              "    </tr>\n",
              "    <tr>\n",
              "      <th>3</th>\n",
              "      <td>-0.28571</td>\n",
              "      <td>-0.20</td>\n",
              "      <td>-0.47619</td>\n",
              "      <td>0.35</td>\n",
              "    </tr>\n",
              "    <tr>\n",
              "      <th>4</th>\n",
              "      <td>-0.14286</td>\n",
              "      <td>-0.20</td>\n",
              "      <td>0.14286</td>\n",
              "      <td>-0.20</td>\n",
              "    </tr>\n",
              "  </tbody>\n",
              "</table>\n",
              "</div>"
            ],
            "text/plain": [
              "   #RSS_anchor1   RSS_anchor2   RSS_anchor3   RSS_anchor4\n",
              "0      -0.90476         -0.48       0.28571          0.30\n",
              "1      -0.57143         -0.32       0.14286          0.30\n",
              "2      -0.38095         -0.28      -0.14286          0.35\n",
              "3      -0.28571         -0.20      -0.47619          0.35\n",
              "4      -0.14286         -0.20       0.14286         -0.20"
            ]
          },
          "metadata": {
            "tags": []
          },
          "execution_count": 4
        }
      ]
    },
    {
      "cell_type": "code",
      "metadata": {
        "id": "5bwEA-SBl94J",
        "colab_type": "code",
        "outputId": "4319c7b4-fb7f-4d4a-de8e-9ba0dddca47b",
        "colab": {
          "base_uri": "https://localhost:8080/",
          "height": 51
        }
      },
      "source": [
        "print(df1.shape)\n",
        "print(df2.shape)"
      ],
      "execution_count": 5,
      "outputs": [
        {
          "output_type": "stream",
          "text": [
            "(27, 4)\n",
            "(26, 4)\n"
          ],
          "name": "stdout"
        }
      ]
    },
    {
      "cell_type": "code",
      "metadata": {
        "id": "_ikPAqLjl_ar",
        "colab_type": "code",
        "colab": {}
      },
      "source": [
        "path = \"/content/MovementAAL/dataset/MovementAAL_RSS_\"\n",
        "sequences = list()\n",
        "\n",
        "for i in range(1,315):\n",
        "    file_path = path + str(i) + '.csv'\n",
        "    df = pd.read_csv(file_path, header=0)\n",
        "    values = df.values\n",
        "    sequences.append(values)\n",
        "\n",
        "targets = pd.read_csv('/content/MovementAAL/dataset/MovementAAL_target.csv')\n",
        "targets = targets.values[:,1]"
      ],
      "execution_count": 0,
      "outputs": []
    },
    {
      "cell_type": "code",
      "metadata": {
        "id": "1Oetkh6cm8yz",
        "colab_type": "code",
        "outputId": "131a03ca-43f8-46b1-d776-5ad739e6e775",
        "colab": {
          "base_uri": "https://localhost:8080/",
          "height": 476
        }
      },
      "source": [
        "sequences[0]"
      ],
      "execution_count": 7,
      "outputs": [
        {
          "output_type": "execute_result",
          "data": {
            "text/plain": [
              "array([[-0.90476 , -0.48    ,  0.28571 ,  0.3     ],\n",
              "       [-0.57143 , -0.32    ,  0.14286 ,  0.3     ],\n",
              "       [-0.38095 , -0.28    , -0.14286 ,  0.35    ],\n",
              "       [-0.28571 , -0.2     , -0.47619 ,  0.35    ],\n",
              "       [-0.14286 , -0.2     ,  0.14286 , -0.2     ],\n",
              "       [-0.14286 , -0.2     ,  0.047619,  0.      ],\n",
              "       [-0.14286 , -0.16    , -0.38095 ,  0.2     ],\n",
              "       [-0.14286 , -0.04    , -0.61905 , -0.2     ],\n",
              "       [-0.095238, -0.08    ,  0.14286 , -0.55    ],\n",
              "       [-0.047619,  0.04    , -0.095238,  0.05    ],\n",
              "       [-0.19048 , -0.04    ,  0.095238,  0.4     ],\n",
              "       [-0.095238, -0.04    , -0.14286 ,  0.35    ],\n",
              "       [-0.33333 , -0.08    , -0.28571 , -0.2     ],\n",
              "       [-0.2381  ,  0.04    ,  0.14286 ,  0.35    ],\n",
              "       [ 0.      ,  0.08    ,  0.14286 ,  0.05    ],\n",
              "       [-0.095238,  0.04    ,  0.095238,  0.1     ],\n",
              "       [-0.14286 , -0.2     ,  0.14286 ,  0.5     ],\n",
              "       [-0.19048 ,  0.04    , -0.42857 ,  0.3     ],\n",
              "       [-0.14286 , -0.08    , -0.2381  ,  0.15    ],\n",
              "       [-0.33333 ,  0.16    , -0.14286 , -0.8     ],\n",
              "       [-0.42857 ,  0.16    , -0.28571 , -0.1     ],\n",
              "       [-0.71429 ,  0.16    , -0.28571 ,  0.2     ],\n",
              "       [-0.095238, -0.08    ,  0.095238,  0.35    ],\n",
              "       [-0.28571 ,  0.04    ,  0.14286 ,  0.2     ],\n",
              "       [ 0.      ,  0.04    ,  0.14286 ,  0.1     ],\n",
              "       [ 0.      ,  0.04    , -0.047619, -0.05    ],\n",
              "       [-0.14286 , -0.6     , -0.28571 , -0.1     ]])"
            ]
          },
          "metadata": {
            "tags": []
          },
          "execution_count": 7
        }
      ]
    },
    {
      "cell_type": "code",
      "metadata": {
        "id": "8RPU6MKlnLzp",
        "colab_type": "code",
        "outputId": "a79e62b4-c0db-44c7-ea5a-e4f7a1f65408",
        "colab": {
          "base_uri": "https://localhost:8080/",
          "height": 34
        }
      },
      "source": [
        "groups = pd.read_csv('/content/MovementAAL/groups/MovementAAL_DatasetGroup.csv', header=0)\n",
        "groups = groups.values[:,1]\n",
        "print(groups.shape)"
      ],
      "execution_count": 8,
      "outputs": [
        {
          "output_type": "stream",
          "text": [
            "(314,)\n"
          ],
          "name": "stdout"
        }
      ]
    },
    {
      "cell_type": "code",
      "metadata": {
        "id": "2DCzjI8YnpQx",
        "colab_type": "code",
        "outputId": "f9899253-db05-487e-8742-87285f485525",
        "colab": {
          "base_uri": "https://localhost:8080/",
          "height": 170
        }
      },
      "source": [
        "len_sequences = []\n",
        "for one_seq in sequences:\n",
        "    len_sequences.append(len(one_seq))\n",
        "pd.Series(len_sequences).describe()"
      ],
      "execution_count": 9,
      "outputs": [
        {
          "output_type": "execute_result",
          "data": {
            "text/plain": [
              "count    314.000000\n",
              "mean      42.028662\n",
              "std       16.185303\n",
              "min       19.000000\n",
              "25%       26.000000\n",
              "50%       41.000000\n",
              "75%       56.000000\n",
              "max      129.000000\n",
              "dtype: float64"
            ]
          },
          "metadata": {
            "tags": []
          },
          "execution_count": 9
        }
      ]
    },
    {
      "cell_type": "code",
      "metadata": {
        "id": "vDXrGC9XoHL5",
        "colab_type": "code",
        "colab": {}
      },
      "source": [
        "#Padding the sequence with the values in last row to max length\n",
        "to_pad = 129\n",
        "new_seq = []\n",
        "for one_seq in sequences:\n",
        "    len_one_seq = len(one_seq)\n",
        "    last_val = one_seq[-1]\n",
        "    n = to_pad - len_one_seq\n",
        "    to_concat = np.repeat(one_seq[-1], n).reshape(4, n).transpose()\n",
        "    new_one_seq = np.concatenate([one_seq, to_concat])\n",
        "    new_seq.append(new_one_seq)\n",
        "final_seq = np.stack(new_seq)\n",
        "\n",
        "#truncate the sequence to length 60\n",
        "from keras.preprocessing import sequence\n",
        "seq_len = 60\n",
        "final_seq=sequence.pad_sequences(final_seq, maxlen=seq_len, padding='post', dtype='float', truncating='post')"
      ],
      "execution_count": 0,
      "outputs": []
    },
    {
      "cell_type": "code",
      "metadata": {
        "id": "wNrwgCF6opxP",
        "colab_type": "code",
        "colab": {}
      },
      "source": [
        "train = [final_seq[i] for i in range(len(groups)) if (groups[i]==2)]\n",
        "validation = [final_seq[i] for i in range(len(groups)) if groups[i]==1]\n",
        "test = [final_seq[i] for i in range(len(groups)) if groups[i]==3]\n",
        "\n",
        "train_target = [targets[i] for i in range(len(groups)) if (groups[i]==2)]\n",
        "validation_target = [targets[i] for i in range(len(groups)) if groups[i]==1]\n",
        "test_target = [targets[i] for i in range(len(groups)) if groups[i]==3]"
      ],
      "execution_count": 0,
      "outputs": []
    },
    {
      "cell_type": "code",
      "metadata": {
        "id": "zvQy1XNmoy16",
        "colab_type": "code",
        "colab": {}
      },
      "source": [
        "train = np.array(train)\n",
        "validation = np.array(validation)\n",
        "test = np.array(test)\n",
        "\n",
        "train_target = np.array(train_target)\n",
        "train_target = (train_target+1)/2\n",
        "\n",
        "validation_target = np.array(validation_target)\n",
        "validation_target = (validation_target+1)/2\n",
        "\n",
        "test_target = np.array(test_target)\n",
        "test_target = (test_target+1)/2"
      ],
      "execution_count": 0,
      "outputs": []
    },
    {
      "cell_type": "code",
      "metadata": {
        "id": "MLPFPYzio-4n",
        "colab_type": "code",
        "colab": {
          "base_uri": "https://localhost:8080/",
          "height": 68
        },
        "outputId": "cfb2edc4-b305-4f45-b4a3-2d9f3f5a5a45"
      },
      "source": [
        "print(train.shape)\n",
        "print(validation.shape)\n",
        "print(test.shape)"
      ],
      "execution_count": 13,
      "outputs": [
        {
          "output_type": "stream",
          "text": [
            "(106, 60, 4)\n",
            "(104, 60, 4)\n",
            "(104, 60, 4)\n"
          ],
          "name": "stdout"
        }
      ]
    },
    {
      "cell_type": "code",
      "metadata": {
        "id": "S-bD2F9PpOuE",
        "colab_type": "code",
        "outputId": "47a7c1f7-6577-499c-8e2a-76c10030f0f0",
        "colab": {
          "base_uri": "https://localhost:8080/",
          "height": 156
        }
      },
      "source": [
        "model = Sequential()\n",
        "model.add(LSTM(256, input_shape=(seq_len, 4)))\n",
        "model.add(Dense(1, activation='sigmoid'))"
      ],
      "execution_count": 14,
      "outputs": [
        {
          "output_type": "stream",
          "text": [
            "WARNING: Logging before flag parsing goes to stderr.\n",
            "W0803 14:28:47.535533 139729855731584 deprecation_wrapper.py:119] From /usr/local/lib/python3.6/dist-packages/keras/backend/tensorflow_backend.py:74: The name tf.get_default_graph is deprecated. Please use tf.compat.v1.get_default_graph instead.\n",
            "\n",
            "W0803 14:28:47.580214 139729855731584 deprecation_wrapper.py:119] From /usr/local/lib/python3.6/dist-packages/keras/backend/tensorflow_backend.py:517: The name tf.placeholder is deprecated. Please use tf.compat.v1.placeholder instead.\n",
            "\n",
            "W0803 14:28:47.587256 139729855731584 deprecation_wrapper.py:119] From /usr/local/lib/python3.6/dist-packages/keras/backend/tensorflow_backend.py:4138: The name tf.random_uniform is deprecated. Please use tf.random.uniform instead.\n",
            "\n"
          ],
          "name": "stderr"
        }
      ]
    },
    {
      "cell_type": "code",
      "metadata": {
        "id": "Dx0gZ5cj1iIh",
        "colab_type": "code",
        "outputId": "55c35184-1b49-4dd6-f1ea-0a2ccc24d051",
        "colab": {
          "base_uri": "https://localhost:8080/",
          "height": 204
        }
      },
      "source": [
        "model.summary()"
      ],
      "execution_count": 15,
      "outputs": [
        {
          "output_type": "stream",
          "text": [
            "_________________________________________________________________\n",
            "Layer (type)                 Output Shape              Param #   \n",
            "=================================================================\n",
            "lstm_1 (LSTM)                (None, 256)               267264    \n",
            "_________________________________________________________________\n",
            "dense_1 (Dense)              (None, 1)                 257       \n",
            "=================================================================\n",
            "Total params: 267,521\n",
            "Trainable params: 267,521\n",
            "Non-trainable params: 0\n",
            "_________________________________________________________________\n"
          ],
          "name": "stdout"
        }
      ]
    },
    {
      "cell_type": "code",
      "metadata": {
        "id": "0w4PtqWO1sg8",
        "colab_type": "code",
        "outputId": "572dfe1f-5480-412d-c654-62660eb775bb",
        "colab": {
          "base_uri": "https://localhost:8080/",
          "height": 1000
        }
      },
      "source": [
        "adam = Adam(lr=0.001)\n",
        "chk = ModelCheckpoint('best_model.pkl', monitor='val_acc', save_best_only=True, mode='max', verbose=1)\n",
        "model.compile(loss='binary_crossentropy', optimizer=adam, metrics=['accuracy'])\n",
        "model.fit(train, train_target, epochs=50, batch_size=128, callbacks=[chk], validation_data=(validation,validation_target))"
      ],
      "execution_count": 18,
      "outputs": [
        {
          "output_type": "stream",
          "text": [
            "Train on 106 samples, validate on 104 samples\n",
            "Epoch 1/50\n",
            "106/106 [==============================] - 1s 9ms/step - loss: 0.0016 - acc: 1.0000 - val_loss: 4.2747 - val_acc: 0.5673\n",
            "\n",
            "Epoch 00001: val_acc improved from -inf to 0.56731, saving model to best_model.pkl\n",
            "Epoch 2/50\n",
            "106/106 [==============================] - 0s 1ms/step - loss: 1.3736 - acc: 0.8113 - val_loss: 3.6514 - val_acc: 0.5577\n",
            "\n",
            "Epoch 00002: val_acc did not improve from 0.56731\n",
            "Epoch 3/50\n",
            "106/106 [==============================] - 0s 1ms/step - loss: 0.3871 - acc: 0.9245 - val_loss: 2.9024 - val_acc: 0.5673\n",
            "\n",
            "Epoch 00003: val_acc did not improve from 0.56731\n",
            "Epoch 4/50\n",
            "106/106 [==============================] - 0s 1ms/step - loss: 0.2147 - acc: 0.9623 - val_loss: 2.5226 - val_acc: 0.5577\n",
            "\n",
            "Epoch 00004: val_acc did not improve from 0.56731\n",
            "Epoch 5/50\n",
            "106/106 [==============================] - 0s 1ms/step - loss: 0.0555 - acc: 0.9811 - val_loss: 1.5428 - val_acc: 0.6731\n",
            "\n",
            "Epoch 00005: val_acc improved from 0.56731 to 0.67308, saving model to best_model.pkl\n",
            "Epoch 6/50\n",
            "106/106 [==============================] - 0s 1ms/step - loss: 0.5998 - acc: 0.8774 - val_loss: 1.9937 - val_acc: 0.5865\n",
            "\n",
            "Epoch 00006: val_acc did not improve from 0.67308\n",
            "Epoch 7/50\n",
            "106/106 [==============================] - 0s 1ms/step - loss: 0.2326 - acc: 0.9623 - val_loss: 2.0939 - val_acc: 0.6058\n",
            "\n",
            "Epoch 00007: val_acc did not improve from 0.67308\n",
            "Epoch 8/50\n",
            "106/106 [==============================] - 0s 1ms/step - loss: 0.2072 - acc: 0.9434 - val_loss: 1.6492 - val_acc: 0.6154\n",
            "\n",
            "Epoch 00008: val_acc did not improve from 0.67308\n",
            "Epoch 9/50\n",
            "106/106 [==============================] - 0s 1ms/step - loss: 0.1306 - acc: 0.9717 - val_loss: 1.3625 - val_acc: 0.6538\n",
            "\n",
            "Epoch 00009: val_acc did not improve from 0.67308\n",
            "Epoch 10/50\n",
            "106/106 [==============================] - 0s 1ms/step - loss: 0.1374 - acc: 0.9623 - val_loss: 1.2500 - val_acc: 0.6538\n",
            "\n",
            "Epoch 00010: val_acc did not improve from 0.67308\n",
            "Epoch 11/50\n",
            "106/106 [==============================] - 0s 1ms/step - loss: 0.1654 - acc: 0.9434 - val_loss: 1.2444 - val_acc: 0.6154\n",
            "\n",
            "Epoch 00011: val_acc did not improve from 0.67308\n",
            "Epoch 12/50\n",
            "106/106 [==============================] - 0s 1ms/step - loss: 0.1959 - acc: 0.9245 - val_loss: 1.2183 - val_acc: 0.5865\n",
            "\n",
            "Epoch 00012: val_acc did not improve from 0.67308\n",
            "Epoch 13/50\n",
            "106/106 [==============================] - 0s 1ms/step - loss: 0.2154 - acc: 0.8962 - val_loss: 1.2629 - val_acc: 0.5577\n",
            "\n",
            "Epoch 00013: val_acc did not improve from 0.67308\n",
            "Epoch 14/50\n",
            "106/106 [==============================] - 0s 1ms/step - loss: 0.2123 - acc: 0.9057 - val_loss: 1.3224 - val_acc: 0.5481\n",
            "\n",
            "Epoch 00014: val_acc did not improve from 0.67308\n",
            "Epoch 15/50\n",
            "106/106 [==============================] - 0s 1ms/step - loss: 0.1974 - acc: 0.9057 - val_loss: 1.3592 - val_acc: 0.5769\n",
            "\n",
            "Epoch 00015: val_acc did not improve from 0.67308\n",
            "Epoch 16/50\n",
            "106/106 [==============================] - 0s 1ms/step - loss: 0.1442 - acc: 0.9340 - val_loss: 1.3911 - val_acc: 0.5865\n",
            "\n",
            "Epoch 00016: val_acc did not improve from 0.67308\n",
            "Epoch 17/50\n",
            "106/106 [==============================] - 0s 1ms/step - loss: 0.1272 - acc: 0.9528 - val_loss: 1.4151 - val_acc: 0.6058\n",
            "\n",
            "Epoch 00017: val_acc did not improve from 0.67308\n",
            "Epoch 18/50\n",
            "106/106 [==============================] - 0s 1ms/step - loss: 0.1420 - acc: 0.9623 - val_loss: 1.4721 - val_acc: 0.6058\n",
            "\n",
            "Epoch 00018: val_acc did not improve from 0.67308\n",
            "Epoch 19/50\n",
            "106/106 [==============================] - 0s 1ms/step - loss: 0.1388 - acc: 0.9623 - val_loss: 1.5031 - val_acc: 0.6346\n",
            "\n",
            "Epoch 00019: val_acc did not improve from 0.67308\n",
            "Epoch 20/50\n",
            "106/106 [==============================] - 0s 1ms/step - loss: 0.1142 - acc: 0.9717 - val_loss: 1.5268 - val_acc: 0.6250\n",
            "\n",
            "Epoch 00020: val_acc did not improve from 0.67308\n",
            "Epoch 21/50\n",
            "106/106 [==============================] - 0s 1ms/step - loss: 0.0893 - acc: 0.9717 - val_loss: 1.5394 - val_acc: 0.6250\n",
            "\n",
            "Epoch 00021: val_acc did not improve from 0.67308\n",
            "Epoch 22/50\n",
            "106/106 [==============================] - 0s 1ms/step - loss: 0.0842 - acc: 0.9811 - val_loss: 1.5415 - val_acc: 0.6250\n",
            "\n",
            "Epoch 00022: val_acc did not improve from 0.67308\n",
            "Epoch 23/50\n",
            "106/106 [==============================] - 0s 1ms/step - loss: 0.0824 - acc: 0.9906 - val_loss: 1.5383 - val_acc: 0.6154\n",
            "\n",
            "Epoch 00023: val_acc did not improve from 0.67308\n",
            "Epoch 24/50\n",
            "106/106 [==============================] - 0s 1ms/step - loss: 0.0813 - acc: 0.9811 - val_loss: 1.5359 - val_acc: 0.6058\n",
            "\n",
            "Epoch 00024: val_acc did not improve from 0.67308\n",
            "Epoch 25/50\n",
            "106/106 [==============================] - 0s 1ms/step - loss: 0.0802 - acc: 0.9811 - val_loss: 1.5344 - val_acc: 0.6058\n",
            "\n",
            "Epoch 00025: val_acc did not improve from 0.67308\n",
            "Epoch 26/50\n",
            "106/106 [==============================] - 0s 1ms/step - loss: 0.0787 - acc: 0.9811 - val_loss: 1.5347 - val_acc: 0.6058\n",
            "\n",
            "Epoch 00026: val_acc did not improve from 0.67308\n",
            "Epoch 27/50\n",
            "106/106 [==============================] - 0s 1ms/step - loss: 0.0768 - acc: 0.9811 - val_loss: 1.5403 - val_acc: 0.5962\n",
            "\n",
            "Epoch 00027: val_acc did not improve from 0.67308\n",
            "Epoch 28/50\n",
            "106/106 [==============================] - 0s 1ms/step - loss: 0.0745 - acc: 0.9811 - val_loss: 1.5529 - val_acc: 0.6058\n",
            "\n",
            "Epoch 00028: val_acc did not improve from 0.67308\n",
            "Epoch 29/50\n",
            "106/106 [==============================] - 0s 1ms/step - loss: 0.0722 - acc: 0.9811 - val_loss: 1.5670 - val_acc: 0.5962\n",
            "\n",
            "Epoch 00029: val_acc did not improve from 0.67308\n",
            "Epoch 30/50\n",
            "106/106 [==============================] - 0s 1ms/step - loss: 0.0702 - acc: 0.9811 - val_loss: 1.5778 - val_acc: 0.5962\n",
            "\n",
            "Epoch 00030: val_acc did not improve from 0.67308\n",
            "Epoch 31/50\n",
            "106/106 [==============================] - 0s 1ms/step - loss: 0.0683 - acc: 0.9811 - val_loss: 1.5870 - val_acc: 0.5962\n",
            "\n",
            "Epoch 00031: val_acc did not improve from 0.67308\n",
            "Epoch 32/50\n",
            "106/106 [==============================] - 0s 1ms/step - loss: 0.0665 - acc: 0.9811 - val_loss: 1.5975 - val_acc: 0.5962\n",
            "\n",
            "Epoch 00032: val_acc did not improve from 0.67308\n",
            "Epoch 33/50\n",
            "106/106 [==============================] - 0s 1ms/step - loss: 0.0649 - acc: 0.9811 - val_loss: 1.6112 - val_acc: 0.5962\n",
            "\n",
            "Epoch 00033: val_acc did not improve from 0.67308\n",
            "Epoch 34/50\n",
            "106/106 [==============================] - 0s 1ms/step - loss: 0.0633 - acc: 0.9811 - val_loss: 1.6288 - val_acc: 0.5865\n",
            "\n",
            "Epoch 00034: val_acc did not improve from 0.67308\n",
            "Epoch 35/50\n",
            "106/106 [==============================] - 0s 1ms/step - loss: 0.0617 - acc: 0.9811 - val_loss: 1.6495 - val_acc: 0.5865\n",
            "\n",
            "Epoch 00035: val_acc did not improve from 0.67308\n",
            "Epoch 36/50\n",
            "106/106 [==============================] - 0s 1ms/step - loss: 0.0601 - acc: 0.9811 - val_loss: 1.6747 - val_acc: 0.5769\n",
            "\n",
            "Epoch 00036: val_acc did not improve from 0.67308\n",
            "Epoch 37/50\n",
            "106/106 [==============================] - 0s 1ms/step - loss: 0.0583 - acc: 0.9811 - val_loss: 1.7066 - val_acc: 0.5865\n",
            "\n",
            "Epoch 00037: val_acc did not improve from 0.67308\n",
            "Epoch 38/50\n",
            "106/106 [==============================] - 0s 1ms/step - loss: 0.0564 - acc: 0.9811 - val_loss: 1.7407 - val_acc: 0.5865\n",
            "\n",
            "Epoch 00038: val_acc did not improve from 0.67308\n",
            "Epoch 39/50\n",
            "106/106 [==============================] - 0s 1ms/step - loss: 0.0544 - acc: 0.9811 - val_loss: 1.7729 - val_acc: 0.5962\n",
            "\n",
            "Epoch 00039: val_acc did not improve from 0.67308\n",
            "Epoch 40/50\n",
            "106/106 [==============================] - 0s 1ms/step - loss: 0.0528 - acc: 0.9811 - val_loss: 1.8119 - val_acc: 0.5962\n",
            "\n",
            "Epoch 00040: val_acc did not improve from 0.67308\n",
            "Epoch 41/50\n",
            "106/106 [==============================] - 0s 1ms/step - loss: 0.0522 - acc: 0.9811 - val_loss: 1.8432 - val_acc: 0.5962\n",
            "\n",
            "Epoch 00041: val_acc did not improve from 0.67308\n",
            "Epoch 42/50\n",
            "106/106 [==============================] - 0s 1ms/step - loss: 0.0519 - acc: 0.9811 - val_loss: 1.8628 - val_acc: 0.5962\n",
            "\n",
            "Epoch 00042: val_acc did not improve from 0.67308\n",
            "Epoch 43/50\n",
            "106/106 [==============================] - 0s 1ms/step - loss: 0.0505 - acc: 0.9811 - val_loss: 1.8743 - val_acc: 0.5865\n",
            "\n",
            "Epoch 00043: val_acc did not improve from 0.67308\n",
            "Epoch 44/50\n",
            "106/106 [==============================] - 0s 1ms/step - loss: 0.0490 - acc: 0.9811 - val_loss: 1.8824 - val_acc: 0.5865\n",
            "\n",
            "Epoch 00044: val_acc did not improve from 0.67308\n",
            "Epoch 45/50\n",
            "106/106 [==============================] - 0s 1ms/step - loss: 0.0483 - acc: 0.9811 - val_loss: 1.8915 - val_acc: 0.5865\n",
            "\n",
            "Epoch 00045: val_acc did not improve from 0.67308\n",
            "Epoch 46/50\n",
            "106/106 [==============================] - 0s 1ms/step - loss: 0.0480 - acc: 0.9811 - val_loss: 1.9064 - val_acc: 0.5865\n",
            "\n",
            "Epoch 00046: val_acc did not improve from 0.67308\n",
            "Epoch 47/50\n",
            "106/106 [==============================] - 0s 1ms/step - loss: 0.0476 - acc: 0.9811 - val_loss: 1.9288 - val_acc: 0.5865\n",
            "\n",
            "Epoch 00047: val_acc did not improve from 0.67308\n",
            "Epoch 48/50\n",
            "106/106 [==============================] - 0s 1ms/step - loss: 0.0468 - acc: 0.9811 - val_loss: 1.9553 - val_acc: 0.5865\n",
            "\n",
            "Epoch 00048: val_acc did not improve from 0.67308\n",
            "Epoch 49/50\n",
            "106/106 [==============================] - 0s 1ms/step - loss: 0.0458 - acc: 0.9811 - val_loss: 1.9809 - val_acc: 0.5865\n",
            "\n",
            "Epoch 00049: val_acc did not improve from 0.67308\n",
            "Epoch 50/50\n",
            "106/106 [==============================] - 0s 1ms/step - loss: 0.0448 - acc: 0.9811 - val_loss: 2.0023 - val_acc: 0.5865\n",
            "\n",
            "Epoch 00050: val_acc did not improve from 0.67308\n"
          ],
          "name": "stdout"
        },
        {
          "output_type": "execute_result",
          "data": {
            "text/plain": [
              "<keras.callbacks.History at 0x7f149f9513c8>"
            ]
          },
          "metadata": {
            "tags": []
          },
          "execution_count": 18
        }
      ]
    },
    {
      "cell_type": "code",
      "metadata": {
        "id": "4_Cc_6ww2cII",
        "colab_type": "code",
        "outputId": "d5ce7642-c19e-4e86-bb34-1ad894a29bf5",
        "colab": {
          "base_uri": "https://localhost:8080/",
          "height": 34
        }
      },
      "source": [
        "#loading the model and checking accuracy on the test data\n",
        "model = load_model('best_model.pkl')\n",
        "\n",
        "from sklearn.metrics import accuracy_score\n",
        "test_preds = model.predict_classes(test)\n",
        "accuracy_score(test_target, test_preds)"
      ],
      "execution_count": 19,
      "outputs": [
        {
          "output_type": "execute_result",
          "data": {
            "text/plain": [
              "0.6442307692307693"
            ]
          },
          "metadata": {
            "tags": []
          },
          "execution_count": 19
        }
      ]
    }
  ]
}